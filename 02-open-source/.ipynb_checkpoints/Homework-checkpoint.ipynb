{
 "cells": [
  {
   "cell_type": "markdown",
   "id": "76633571-35b4-4f02-aa98-667e48bf3959",
   "metadata": {},
   "source": [
    "# 1. What's the version of ollama client?"
   ]
  },
  {
   "cell_type": "code",
   "execution_count": 105,
   "id": "85e6fd14-56d1-4a02-b602-fab914749535",
   "metadata": {},
   "outputs": [],
   "source": [
    "from openai import OpenAI\n",
    "\n",
    "client = OpenAI(\n",
    "    base_url='http://localhost:11434/v1/',\n",
    "    api_key='ollama',\n",
    ")"
   ]
  },
  {
   "cell_type": "code",
   "execution_count": 106,
   "id": "fab83396-c475-4e9e-99de-e30c85e98031",
   "metadata": {},
   "outputs": [
    {
     "name": "stdout",
     "output_type": "stream",
     "text": [
      "ollama version is 0.1.48\n"
     ]
    }
   ],
   "source": [
    "!ollama -v"
   ]
  },
  {
   "cell_type": "markdown",
   "id": "2eb995f1-68ac-4b65-961e-69940d533f8b",
   "metadata": {},
   "source": [
    "# 2. What's the content of the file related to gemma?"
   ]
  },
  {
   "cell_type": "code",
   "execution_count": null,
   "id": "70a37b93-f910-4a96-8fcc-85ce41375084",
   "metadata": {},
   "outputs": [],
   "source": [
    "docker exec -it ollama bash\n",
    "\n",
    "ollama pull gemma:2b\n",
    "\n",
    "cd /root/.ollama\n",
    "\n",
    "cd models/manifests/registry.ollama.ai/library\n",
    "\n",
    "cat gemma/2b.json"
   ]
  },
  {
   "cell_type": "markdown",
   "id": "dba4ebef-36c3-4bfa-8633-6d6308e751d5",
   "metadata": {},
   "source": [
    "# 3. Test the following prompt: \"10 * 10\". What's the answer?"
   ]
  },
  {
   "cell_type": "code",
   "execution_count": 109,
   "id": "1f01c273-ff3a-4874-b3d7-2cbd23590a4b",
   "metadata": {},
   "outputs": [],
   "source": [
    "def llm(prompt):\n",
    "    response = client.chat.completions.create(\n",
    "        model='gemma:2b',\n",
    "        messages=[{\"role\": \"user\", \"content\": prompt}]\n",
    "    )\n",
    "    \n",
    "    return response.choices[0].message.content"
   ]
  },
  {
   "cell_type": "code",
   "execution_count": 110,
   "id": "118495cd-28a0-4f32-b029-ceea19270a18",
   "metadata": {},
   "outputs": [
    {
     "data": {
      "text/plain": [
       "\"Sure, here's the answer:\\n\\n10 * 10 = 100.\\n\\n\""
      ]
     },
     "execution_count": 110,
     "metadata": {},
     "output_type": "execute_result"
    }
   ],
   "source": [
    "llm('10*10')"
   ]
  },
  {
   "cell_type": "code",
   "execution_count": 111,
   "id": "941a2af4-e2dd-4ede-a646-c87d382a2482",
   "metadata": {},
   "outputs": [
    {
     "name": "stdout",
     "output_type": "stream",
     "text": [
      "Sure, here's the answer:\n",
      "\n",
      "10 * 10 = 100.\n",
      "\n",
      "\n"
     ]
    }
   ],
   "source": [
    "print(_)"
   ]
  },
  {
   "cell_type": "markdown",
   "id": "fabd3a19-fe80-4654-84ad-c9c4bc3ff238",
   "metadata": {},
   "source": [
    "# 4. What's the size of the ollama_files/models folder?"
   ]
  },
  {
   "cell_type": "code",
   "execution_count": 25,
   "id": "9631650a-0ef4-4e25-9db2-b6f608a2b762",
   "metadata": {},
   "outputs": [
    {
     "ename": "SyntaxError",
     "evalue": "invalid decimal literal (1416584825.py, line 10)",
     "output_type": "error",
     "traceback": [
      "\u001b[0;36m  Cell \u001b[0;32mIn[25], line 10\u001b[0;36m\u001b[0m\n\u001b[0;31m    docker exec -it ollama ollama pull gemma:2b\u001b[0m\n\u001b[0m                                             ^\u001b[0m\n\u001b[0;31mSyntaxError\u001b[0m\u001b[0;31m:\u001b[0m invalid decimal literal\n"
     ]
    }
   ],
   "source": [
    "mkdir ollama_files\n",
    "\n",
    "docker run -it \\\n",
    "    --rm \\\n",
    "    -v ./ollama_files:/root/.ollama \\\n",
    "    -p 11434:11434 \\\n",
    "    --name ollama \\\n",
    "    ollama/ollama\n",
    "\n",
    "docker exec -it ollama ollama pull gemma:2b \n",
    "\n",
    "du -sh ollama_files/models"
   ]
  },
  {
   "cell_type": "markdown",
   "id": "a708809f-e8f2-4cda-8b83-16090d345cde",
   "metadata": {},
   "source": [
    "# 5. What do you put after COPY?"
   ]
  },
  {
   "cell_type": "code",
   "execution_count": null,
   "id": "c8899513-4492-493d-a939-269bcde93bd3",
   "metadata": {},
   "outputs": [],
   "source": [
    "FROM ollama/ollama\n",
    "\n",
    "COPY . /models /root/.ollama/models"
   ]
  },
  {
   "cell_type": "markdown",
   "id": "ef59185a-8adc-496c-86c3-a60a356827d7",
   "metadata": {},
   "source": [
    "# 6. How many completion tokens did you get in response?"
   ]
  },
  {
   "cell_type": "code",
   "execution_count": 58,
   "id": "22798df7-7396-4812-a499-0266fcd9d0dc",
   "metadata": {},
   "outputs": [],
   "source": [
    "from openai import OpenAI\n",
    "\n",
    "client = OpenAI(\n",
    "    base_url='http://localhost:11434/v1/',\n",
    "    api_key='ollama',\n",
    ")"
   ]
  },
  {
   "cell_type": "code",
   "execution_count": 59,
   "id": "b7529547-f52d-4a3e-9ae2-c1efffdf013a",
   "metadata": {},
   "outputs": [],
   "source": [
    "prompt = \"What's the formula for energy?\""
   ]
  },
  {
   "cell_type": "code",
   "execution_count": 100,
   "id": "dc9da088-7e76-4b12-9953-9c0d904106ae",
   "metadata": {},
   "outputs": [],
   "source": [
    "def llm(prompt):\n",
    "    response = client.chat.completions.create(\n",
    "    model=\"gemma:2b\",\n",
    "    messages=[\n",
    "        {\"role\": \"user\", \"content\": prompt}\n",
    "    ],\n",
    "    temperature=0.0\n",
    ")\n",
    "\n",
    "    return response.choices[0].message.content"
   ]
  },
  {
   "cell_type": "code",
   "execution_count": 101,
   "id": "dfaab464-d1e4-4254-b563-1bcf3aa7dd6e",
   "metadata": {},
   "outputs": [
    {
     "data": {
      "text/plain": [
       "\"Sure, here's the formula for energy:\\n\\n**E = K + U**\\n\\nWhere:\\n\\n* **E** is the energy in joules (J)\\n* **K** is the kinetic energy in joules (J)\\n* **U** is the potential energy in joules (J)\\n\\n**Kinetic energy (K)** is the energy an object possesses when it moves or is in motion. It is calculated as half the product of an object's mass (m) and its velocity (v) squared:\\n\\n**K = 1/2 * m * v^2**\\n\\n**Potential energy (U)** is the energy an object possesses when it is in a position or has a specific configuration. It is calculated as the product of an object's mass and the gravitational constant (g) multiplied by the height or distance of the object from a reference point.\\n\\n**Gravitational potential energy (U)** is given by the formula:\\n\\n**U = mgh**\\n\\nWhere:\\n\\n* **m** is the mass of the object in kilograms (kg)\\n* **g** is the acceleration due to gravity in meters per second squared (m/s^2)\\n* **h** is the height or distance of the object in meters (m)\\n\\nThe formula for energy can be used to calculate the total energy of an object, the energy of a specific part of an object, or the change in energy of an object over time.\""
      ]
     },
     "execution_count": 101,
     "metadata": {},
     "output_type": "execute_result"
    }
   ],
   "source": [
    "llm(prompt)"
   ]
  },
  {
   "cell_type": "code",
   "execution_count": 102,
   "id": "9838a3b6-9513-4f18-a1f8-5b2e1ada8705",
   "metadata": {},
   "outputs": [
    {
     "name": "stdout",
     "output_type": "stream",
     "text": [
      "Sure, here's the formula for energy:\n",
      "\n",
      "**E = K + U**\n",
      "\n",
      "Where:\n",
      "\n",
      "* **E** is the energy in joules (J)\n",
      "* **K** is the kinetic energy in joules (J)\n",
      "* **U** is the potential energy in joules (J)\n",
      "\n",
      "**Kinetic energy (K)** is the energy an object possesses when it moves or is in motion. It is calculated as half the product of an object's mass (m) and its velocity (v) squared:\n",
      "\n",
      "**K = 1/2 * m * v^2**\n",
      "\n",
      "**Potential energy (U)** is the energy an object possesses when it is in a position or has a specific configuration. It is calculated as the product of an object's mass and the gravitational constant (g) multiplied by the height or distance of the object from a reference point.\n",
      "\n",
      "**Gravitational potential energy (U)** is given by the formula:\n",
      "\n",
      "**U = mgh**\n",
      "\n",
      "Where:\n",
      "\n",
      "* **m** is the mass of the object in kilograms (kg)\n",
      "* **g** is the acceleration due to gravity in meters per second squared (m/s^2)\n",
      "* **h** is the height or distance of the object in meters (m)\n",
      "\n",
      "The formula for energy can be used to calculate the total energy of an object, the energy of a specific part of an object, or the change in energy of an object over time.\n"
     ]
    }
   ],
   "source": [
    "print(_)"
   ]
  },
  {
   "cell_type": "code",
   "execution_count": 103,
   "id": "fe34c658-dbad-4b8d-a8d4-c88caf5ee4bb",
   "metadata": {},
   "outputs": [
    {
     "data": {
      "text/plain": [
       "1122"
      ]
     },
     "execution_count": 103,
     "metadata": {},
     "output_type": "execute_result"
    }
   ],
   "source": [
    "len(llm(prompt))"
   ]
  },
  {
   "cell_type": "code",
   "execution_count": 104,
   "id": "03d16c62-e8a2-4fcf-9a2f-7463577bb3b1",
   "metadata": {},
   "outputs": [
    {
     "name": "stdout",
     "output_type": "stream",
     "text": [
      "The response contains 211 completion tokens.\n"
     ]
    }
   ],
   "source": [
    "completion_token_count = len(response.choices[0].message.content.split())\n",
    "\n",
    "print(f\"The response contains {completion_token_count} completion tokens.\")"
   ]
  },
  {
   "cell_type": "code",
   "execution_count": 97,
   "id": "e72f4fc9-9143-4e2f-85e5-d5c1f8c1b077",
   "metadata": {},
   "outputs": [],
   "source": [
    "def llm(prompt):\n",
    "    response = client.chat.completions.create(\n",
    "    model=\"gemma:2b\",\n",
    "    messages=[\n",
    "        {\"role\": \"user\", \"content\": prompt}\n",
    "    ],\n",
    "    temperature=0.0\n",
    ")\n",
    "\n",
    "    return response"
   ]
  },
  {
   "cell_type": "code",
   "execution_count": 98,
   "id": "93820019-ed29-4cf9-aaab-d91c628f218a",
   "metadata": {},
   "outputs": [
    {
     "name": "stdout",
     "output_type": "stream",
     "text": [
      "Completion text: Sure, here's the formula for energy:\n",
      "\n",
      "**E = K + U**\n",
      "\n",
      "Where:\n",
      "\n",
      "* **E** is the energy in joules (J)\n",
      "* **K** is the kinetic energy in joules (J)\n",
      "* **U** is the potential energy in joules (J)\n",
      "\n",
      "**Kinetic energy (K)** is the energy an object possesses when it moves or is in motion. It is calculated as half the product of an object's mass (m) and its velocity (v) squared:\n",
      "\n",
      "**K = 1/2 * m * v^2**\n",
      "\n",
      "**Potential energy (U)** is the energy an object possesses when it is in a position or has a specific configuration. It is calculated as the product of an object's mass and the gravitational constant (g) multiplied by the height or distance of the object from a reference point.\n",
      "\n",
      "**Gravitational potential energy (U)** is given by the formula:\n",
      "\n",
      "**U = mgh**\n",
      "\n",
      "Where:\n",
      "\n",
      "* **m** is the mass of the object in kilograms (kg)\n",
      "* **g** is the acceleration due to gravity in meters per second squared (m/s^2)\n",
      "* **h** is the height or distance of the object in meters (m)\n",
      "\n",
      "The formula for energy can be used to calculate the total energy of an object, the energy of a specific part of an object, or the change in energy of an object over time.\n"
     ]
    }
   ],
   "source": [
    "# Get the response\n",
    "response = llm(prompt)\n",
    "\n",
    "# Extract the completion text\n",
    "completion_text = response.choices[0].message.content\n",
    "\n",
    "# Count the tokens in the completion\n",
    "completion_tokens = len(completion_text.split())\n",
    "\n",
    "print(f\"Completion text: {completion_text}\")"
   ]
  },
  {
   "cell_type": "code",
   "execution_count": 99,
   "id": "088e157c-ef09-464b-b199-89a705ca2dc9",
   "metadata": {},
   "outputs": [
    {
     "name": "stdout",
     "output_type": "stream",
     "text": [
      "Number of completion tokens: 211\n"
     ]
    }
   ],
   "source": [
    "print(f\"Number of completion tokens: {completion_tokens}\")"
   ]
  },
  {
   "cell_type": "code",
   "execution_count": null,
   "id": "9c29099f-28a9-4907-ae93-05053e36bd53",
   "metadata": {},
   "outputs": [],
   "source": []
  }
 ],
 "metadata": {
  "kernelspec": {
   "display_name": "Python 3 (ipykernel)",
   "language": "python",
   "name": "python3"
  },
  "language_info": {
   "codemirror_mode": {
    "name": "ipython",
    "version": 3
   },
   "file_extension": ".py",
   "mimetype": "text/x-python",
   "name": "python",
   "nbconvert_exporter": "python",
   "pygments_lexer": "ipython3",
   "version": "3.10.13"
  }
 },
 "nbformat": 4,
 "nbformat_minor": 5
}
